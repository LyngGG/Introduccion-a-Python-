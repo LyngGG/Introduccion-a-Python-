{
 "cells": [
  {
   "cell_type": "markdown",
   "id": "1db3cf88",
   "metadata": {},
   "source": [
    "## Introducción a Python\n",
    "Python es un lenguaje de programación de alto nivel, interpretado y de propósito general. Es conocido por su sintaxis clara y legible, lo que lo convierte en una excelente opción para principiantes y expertos por igual. Python admite múltiples paradigmas de programación, incluidos la programación orientada a objetos, la programación funcional y la programación imperativa.\n",
    "\n",
    "### Características principales de Python\n",
    "1. **Sencillez y legibilidad**: La sintaxis de Python es simple y fácil de entender, lo que facilita el aprendizaje y la escritura de código.\n",
    "2. **Tipado dinámico**: Python utiliza un sistema de tipos dinámico, lo que significa que no es necesario declarar el tipo de una variable al crearla.\n",
    "3. **Amplia biblioteca estándar**: Python viene con una gran cantidad de módulos y paquetes que facilitan tareas comunes, como manipulación de archivos, acceso a bases de datos y creación de interfaces gráficas.\n",
    "4. **Comunidad activa**: Python cuenta con una gran comunidad de desarrolladores que contribuyen a su crecimiento y mejora constante.\n",
    "\n",
    "### Instalación de Python\n",
    "Para comenzar a programar en Python, primero debes instalarlo en tu sistema. Puedes descargar la última versión de Python desde su sitio web oficial: [python.org](https://www.python.org/downloads/). Sigue las instrucciones de instalación para tu sistema operativo.\n"
   ]
  },
  {
   "cell_type": "markdown",
   "id": "5eb45efe",
   "metadata": {},
   "source": [
    "### Instalación de Python\n",
    "Para comenzar a programar en Python, primero debes instalarlo en tu sistema. Puedes descargar la última versión de Python desde su sitio web oficial: [python.org](https://www.python.org/downloads/). Sigue las instrucciones de instalación para tu sistema operativo.\n",
    "\n",
    "#### Comprobación\n",
    "Para saber si Python está instalado, escribe este comando en la consola (CMD)\n",
    "```\n",
    "python --version\n",
    "```\n",
    "Si te sale que existe y te dice su version ¡Enhorabuena ya lo tienes instalado! \n",
    "En otro caso, revísalo.\n",
    "\n",
    "\n",
    "\n",
    "\n",
    "\n"
   ]
  },
  {
   "cell_type": "markdown",
   "id": "d8f9b666",
   "metadata": {},
   "source": [
    "# Tu primer programa en Python\n",
    "Una vez que hayas instalado Python, puedes escribir tu primer programa. En tu IDE, abre un editor de texto, ubícalo en una carpeta para mantener un orden (muy importante) y escribe lo siguiente:"
   ]
  },
  {
   "cell_type": "code",
   "execution_count": 159,
   "id": "c7546894",
   "metadata": {},
   "outputs": [
    {
     "name": "stdout",
     "output_type": "stream",
     "text": [
      "¡Hola, Mundo!\n"
     ]
    }
   ],
   "source": [
    "print(\"¡Hola, Mundo!\")"
   ]
  },
  {
   "cell_type": "markdown",
   "id": "abcde835",
   "metadata": {},
   "source": [
    "Guarda el archivo con la extensión `.py`, por ejemplo, `hola_mundo.py`. Luego, abre una terminal o símbolo del sistema y navega hasta el directorio donde guardaste el archivo. Ejecuta el programa con el siguiente comando:\n",
    "\n",
    "```python hola_mundo.py\n",
    "```\n",
    "\n",
    "Deberías ver la salida:\n",
    "\n",
    "```\n",
    "¡Hola, mundo!\n",
    "```\n",
    "\n",
    "¡Felicidades! Has escrito y ejecutado tu primer programa en Python."
   ]
  },
  {
   "cell_type": "markdown",
   "id": "46e462a7",
   "metadata": {},
   "source": [
    "## Conceptos básicos de la sintaxis en Python \n",
    "\n",
    "- ### Indentación \n",
    "\n",
    "En Python, la indentación (espacios o tabulaciones al inicio de una línea) se utiliza para delimitar bloques de código. Otros lenguajes como Java usan llaves {}."
   ]
  },
  {
   "cell_type": "code",
   "execution_count": 160,
   "id": "461d09ad",
   "metadata": {},
   "outputs": [
    {
     "name": "stdout",
     "output_type": "stream",
     "text": [
      "Esta es una condición verdadera.\n"
     ]
    }
   ],
   "source": [
    "if True:\n",
    "    print(\"Esta es una condición verdadera.\")\n",
    "else:\n",
    "    print(\"Esta es una condición falsa.\")"
   ]
  },
  {
   "cell_type": "markdown",
   "id": "b3b58eb9",
   "metadata": {},
   "source": [
    "- ### Hacer comentarios"
   ]
  },
  {
   "cell_type": "code",
   "execution_count": 161,
   "id": "2bedb5ec",
   "metadata": {},
   "outputs": [
    {
     "data": {
      "text/plain": [
       "'\\nEste es para comentar \\nvarias líneas de código.\\n'"
      ]
     },
     "execution_count": 161,
     "metadata": {},
     "output_type": "execute_result"
    }
   ],
   "source": [
    "# Con # puedes comentar una línea de código.\n",
    "\n",
    "\"\"\"\n",
    "Este es para comentar \n",
    "varias líneas de código.\n",
    "\"\"\""
   ]
  },
  {
   "cell_type": "markdown",
   "id": "512cb8c9",
   "metadata": {},
   "source": [
    "- ### Las mayúsculas y minúsculas se distinguen\n",
    "- ###  Punto y coma\n",
    "Usado para escribir varias isntrucciones en una sola linea \n",
    "``` \n",
    "instruccion1;instruccion2;instruccion3\n",
    "```\n",
    "- ### Uso de paréntesis "
   ]
  },
  {
   "cell_type": "code",
   "execution_count": 162,
   "id": "4ececcb1",
   "metadata": {},
   "outputs": [],
   "source": [
    "\n",
    "resultado1 = (a+b)*c \n",
    "resultado2 = a+b*c\n",
    "# Son distintos"
   ]
  },
  {
   "cell_type": "markdown",
   "id": "2094d2e4",
   "metadata": {},
   "source": [
    "## [Tipos de datos básicos y declaración de variables (clickable)](https://j2logo.com/python/tutorial/tipos-de-datos-basicos-de-python/#tipos-numericos)\n"
   ]
  },
  {
   "cell_type": "code",
   "execution_count": 163,
   "id": "fb33b86f",
   "metadata": {},
   "outputs": [],
   "source": [
    "nombre = \"yl\"\n",
    "edad = 25\n",
    "altura = 1.65\n",
    "es_estudiante = True"
   ]
  },
  {
   "cell_type": "markdown",
   "id": "f2c2b090",
   "metadata": {},
   "source": [
    "También puedes asignar el mismo valor a múltiples variables en una sola línea utilizando el operador de asignación múltiple:"
   ]
  },
  {
   "cell_type": "code",
   "execution_count": 164,
   "id": "d307810f",
   "metadata": {},
   "outputs": [],
   "source": [
    "a = b = c = 10"
   ]
  },
  {
   "cell_type": "markdown",
   "id": "ffdf24c9",
   "metadata": {},
   "source": [
    "En este caso, las variables a, b y c tendrán el valor 10."
   ]
  },
  {
   "cell_type": "markdown",
   "id": "2806dad6",
   "metadata": {},
   "source": [
    "## Normas para nombrar variables \n",
    "- Los nombres de las variables solo pueden contener letras (a-z, A-Z), números (0-9) y guiones bajos (_). No pueden comenzar con un número.\n",
    "\n",
    "- No se pueden utilizar palabras clave reservadas de Python como nombres de variables (por ejemplo, if, else, for, while, etc.).\n",
    "\n",
    "- Python distingue entre mayúsculas y minúsculas, por lo que nombre y Nombre son variables diferentes.\n",
    "\n",
    "- Se recomienda utilizar nombres descriptivos para las variables, que indiquen claramente su propósito: nombre, edad, total_ventas, etc."
   ]
  },
  {
   "cell_type": "markdown",
   "id": "c0d41542",
   "metadata": {},
   "source": [
    "## [Tipos de Operadores (clickable)](https://www.freecodecamp.org/espanol/news/operadores-basicos-en-python-con-ejemplos/)"
   ]
  },
  {
   "cell_type": "markdown",
   "id": "7e3b4732",
   "metadata": {},
   "source": [
    "Python sigue las reglas de precedencia de operadores, donde ciertos operadores tienen prioridad sobre otros. En general, la precedencia sigue el orden: paréntesis, exponenciación, multiplicación/división, suma/resta, operadores de comparación y operadores lógicos."
   ]
  },
  {
   "cell_type": "markdown",
   "id": "e7c1806d",
   "metadata": {},
   "source": [
    "## Estructuras de Control\n",
    "***Haz click en las siguientes palabras claves para saber qué son.***\n",
    "\n",
    "No hace falta que sepas todo el contenido, solo cómo se usa de forma básica. El resto lo irás aprendiendo naturalmente.\n",
    "\n",
    "- [if-eleif-else](https://ellibrodepython.com/if-python)\n",
    "\n",
    "Estructura general:\n",
    "\n",
    "```\n",
    "if condition:\n",
    "    # Bloque de código que quieres ejecutar\n",
    "elif condition:\n",
    "    # Bloque de código que quieres ejecutar\n",
    "elif condition:\n",
    "    # Bloque de código que quieres ejecutar\n",
    "else:\n",
    "    # Código que se ejecuta si lo de arriba no cumple\n",
    "```\n",
    "\n",
    "Cabe destacar que la parte de elif y else se pueden obviar si la lógica de tu código lo permite. Además elif puedes poner las que quieras. Piensa que son condicionales: \n",
    "(if) Si ocurre esto, haz esto; \n",
    "(elif) Si ocurre esto otro, haz esto; \n",
    "(elif) Si ocurre este otro, haz esto;\n",
    "...; \n",
    "(else) Si no ocurre ningún caso, haz esto.\n",
    "\n",
    "Luego cuando pensamos así, podemos solo decir \n",
    "(if) Si ocurre esto, haz esto.\n",
    "\n",
    "```\n",
    "if condition:   \n",
    "    # Bloque de código que quieres ejecutar\n",
    "```\n",
    "\n",
    "También puede ocurrir esto:\n",
    "(if) Si ocurre esto, haz esto;\n",
    "(else) De lo contrario, haz esto.\n",
    "\n",
    "```\n",
    "if condition:\n",
    "    # Bloque de código que quieres ejecutar\n",
    "else: \n",
    "    # Bloque de código que quieres ejecutar\n",
    "```"
   ]
  },
  {
   "cell_type": "markdown",
   "id": "5cac3bc2",
   "metadata": {},
   "source": [
    "\n",
    "- [For loops](https://ellibrodepython.com/for-python)\n",
    "\n",
    "Estructura general:\n",
    "\n",
    "```\n",
    "for variable in secuencia: \n",
    "    # Bloque de código a repetir\n",
    "    instrucciones\n",
    "```"
   ]
  },
  {
   "cell_type": "code",
   "execution_count": 165,
   "id": "b34d934b",
   "metadata": {},
   "outputs": [
    {
     "name": "stdout",
     "output_type": "stream",
     "text": [
      "manzana\n",
      "banana\n",
      "naranja\n"
     ]
    }
   ],
   "source": [
    "frutas = [\"manzana\", \"banana\", \"naranja\"]\n",
    "\n",
    "for fruta in frutas:\n",
    "    print(fruta)"
   ]
  },
  {
   "cell_type": "markdown",
   "id": "3a8a61df",
   "metadata": {},
   "source": [
    "- [While loops](https://ellibrodepython.com/while-python)\n",
    "\n",
    "Estructura general:\n",
    "\n",
    "```\n",
    "while condicion:\n",
    "    # Bloque de código a repetir\n",
    "    instrucciones\n",
    "```"
   ]
  },
  {
   "cell_type": "code",
   "execution_count": 166,
   "id": "40294964",
   "metadata": {},
   "outputs": [
    {
     "name": "stdout",
     "output_type": "stream",
     "text": [
      "0\n",
      "1\n",
      "2\n",
      "3\n",
      "4\n"
     ]
    }
   ],
   "source": [
    "contador = 0\n",
    "\n",
    "while contador < 5:\n",
    "    print(contador)\n",
    "    contador += 1"
   ]
  },
  {
   "cell_type": "markdown",
   "id": "7274bdf8",
   "metadata": {},
   "source": [
    "### Control de bucles\n",
    "\n",
    "Python proporciona algunas instrucciones especiales para controlar el flujo de ejecución dentro de los bucles:\n",
    "\n",
    "- Break : salir del bucle "
   ]
  },
  {
   "cell_type": "code",
   "execution_count": 167,
   "id": "c2daece6",
   "metadata": {},
   "outputs": [
    {
     "name": "stdout",
     "output_type": "stream",
     "text": [
      "0\n",
      "1\n",
      "2\n",
      "3\n",
      "4\n"
     ]
    }
   ],
   "source": [
    "contador = 0\n",
    "\n",
    "while True:\n",
    "    print(contador)\n",
    "    contador += 1\n",
    "    if contador == 5:\n",
    "        break"
   ]
  },
  {
   "cell_type": "markdown",
   "id": "b3ba8a1b",
   "metadata": {},
   "source": [
    "- Continue: salta esa iteración"
   ]
  },
  {
   "cell_type": "code",
   "execution_count": 168,
   "id": "72edaf68",
   "metadata": {},
   "outputs": [
    {
     "name": "stdout",
     "output_type": "stream",
     "text": [
      "1\n",
      "3\n",
      "5\n",
      "7\n",
      "9\n"
     ]
    }
   ],
   "source": [
    "for i in range(10):\n",
    "\n",
    "    if i % 2 == 0:\n",
    "        continue\n",
    "    print(i)"
   ]
  },
  {
   "cell_type": "markdown",
   "id": "c06ff07e",
   "metadata": {},
   "source": [
    "## Estructuras de Datos\n",
    "***Algo fundamental en el mundo de la programación***\n",
    "\n",
    "- ### Listas"
   ]
  },
  {
   "cell_type": "code",
   "execution_count": 169,
   "id": "4c8d2c14",
   "metadata": {},
   "outputs": [
    {
     "name": "stdout",
     "output_type": "stream",
     "text": [
      "manzana\n",
      "banana\n",
      "naranja\n",
      "naranja\n",
      "banana\n",
      "manzana\n"
     ]
    }
   ],
   "source": [
    "# Se crear con y separado por comas [_, _ , _] \n",
    "frutas = [\"manzana\", \"banana\", \"naranja\"] \n",
    "\n",
    "# Acceso a elementos de la lista\n",
    "# Se usan sus índices, que comienzan en 0\n",
    "print(frutas[0])  # Imprime \"manzana\"\n",
    "print(frutas[1])  # Imprime \"banana\"\n",
    "print(frutas[2])  # Imprime \"naranja\"\n",
    "\n",
    "# Acceso a elementos desde el final de la lista\n",
    "# Se usan índices negativos, comenzando desde -1\n",
    "print(frutas[-1])  # Imprime \"naranja\"\n",
    "print(frutas[-2])  # Imprime \"banana\"\n",
    "print(frutas[-3])  # Imprime \"manzana\""
   ]
  },
  {
   "cell_type": "markdown",
   "id": "879184e1",
   "metadata": {},
   "source": [
    "Podemos usar métodos para trabajar y jugar con las listas:\n",
    "\n",
    "- **append(elemento)**: agrega un elemento al final de la lista.\n",
    "- **insert(indice, elemento)**: inserta un elemento en una posición específica de la lista.\n",
    "- **remove(elemento)**: elimina la primera aparición de un elemento en la lista.\n",
    "- **pop(indice)**: elimina y devuelve el elemento en una posición específica de la lista.\n",
    "- **sort()**: ordena los elementos de la lista en orden ascendente.\n",
    "- **reverse()**: invierte el orden de los elementos en la lista.\n"
   ]
  },
  {
   "cell_type": "code",
   "execution_count": 170,
   "id": "83b6f01f",
   "metadata": {},
   "outputs": [
    {
     "name": "stdout",
     "output_type": "stream",
     "text": [
      "['manzana', 'banana', 'naranja', 'pera']\n",
      "['manzana', 'uva', 'banana', 'naranja', 'pera']\n",
      "['manzana', 'uva', 'naranja', 'pera']\n",
      "['manzana', 'uva', 'pera']\n",
      "naranja\n",
      "['manzana', 'pera', 'uva']\n",
      "['uva', 'pera', 'manzana']\n"
     ]
    }
   ],
   "source": [
    "frutas.append(\"pera\")\n",
    "print(frutas)  # Imprime [\"manzana\", \"banana\", \"naranja\", \"pera\"]\n",
    "\n",
    "\n",
    "frutas.insert(1, \"uva\")\n",
    "print(frutas)  # Imprime [\"manzana\", \"uva\", \"banana\", \"naranja\", \"pera\"]\n",
    "\n",
    "\n",
    "frutas.remove(\"banana\")\n",
    "print(frutas)  # Imprime [\"manzana\", \"uva\", \"naranja\", \"pera\"]\n",
    "\n",
    "\n",
    "fruta_eliminada = frutas.pop(2)\n",
    "print(frutas)  # Imprime [\"manzana\", \"uva\", \"pera\"]\n",
    "print(fruta_eliminada)  # Imprime \"naranja\"\n",
    "\n",
    "\n",
    "frutas.sort()\n",
    "print(frutas)  # Imprime [\"manzana\", \"pera\", \"uva\"]\n",
    "\n",
    "\n",
    "frutas.reverse()\n",
    "print(frutas)  # Imprime [\"uva\", \"pera\", \"manzana\"]"
   ]
  },
  {
   "cell_type": "markdown",
   "id": "3e0fcd9c",
   "metadata": {},
   "source": [
    "- ### Listas de compensión "
   ]
  },
  {
   "cell_type": "code",
   "execution_count": 171,
   "id": "93f6a82a",
   "metadata": {},
   "outputs": [
    {
     "name": "stdout",
     "output_type": "stream",
     "text": [
      "[4, 16]\n"
     ]
    }
   ],
   "source": [
    "numeros = [1, 2, 3, 4, 5]\n",
    "cuadrados = [x ** 2 for x in numeros if x % 2 == 0]\n",
    "print(cuadrados)  # Imprime [4, 16]"
   ]
  },
  {
   "cell_type": "markdown",
   "id": "8c810a8e",
   "metadata": {},
   "source": [
    "Es decir, podemos crear una lista usando bucles y condicionales !\n",
    "\n",
    "Por ejemplo en \n",
    "```\n",
    "cuadrados = [x ** 2 for x in numeros if x % 2 == 0]\n",
    "```\n",
    "- ``` x ** 2 ```  es $x^{2}$\n",
    "- ``` for x in numeros ``` x es igual a los elementos que haya en numeros\n",
    "- ``` if x % 2 == 0 ``` si el resto de dividir $\\frac{x}{2}$ es igual a 2"
   ]
  },
  {
   "cell_type": "markdown",
   "id": "ba462b4e",
   "metadata": {},
   "source": [
    "- ### Tuplas\n",
    "Una tupla es una estructura de datos ***inmutable y ordenada*** que permite almacenar una colección de elementos. Los elementos de una tupla se encierran entre paréntesis (), separados por comas."
   ]
  },
  {
   "cell_type": "code",
   "execution_count": 172,
   "id": "d6bfb701",
   "metadata": {},
   "outputs": [
    {
     "name": "stdout",
     "output_type": "stream",
     "text": [
      "3\n",
      "4\n"
     ]
    }
   ],
   "source": [
    "punto = (3, 4)\n",
    "print(punto[0])  # Imprime 3\n",
    "print(punto[1])  # Imprime 4"
   ]
  },
  {
   "cell_type": "markdown",
   "id": "6ed0fc80",
   "metadata": {},
   "source": [
    "**Métodos de tuplas**\n",
    "\n",
    "- **count(elemento)**: devuelve el número de veces que aparece un elemento en la tupla. \n",
    "- **index(elemento)**: devuelve el índice de la primera aparición de un elemento en la tupla. Opcionalmente, se puede especificar el inicio y fin de la búsqueda. \n",
    "- **len(tupla)**: aunque no es un método de tupla propiamente dicho, esta función incorporada devuelve la longitud de la tupla."
   ]
  },
  {
   "cell_type": "code",
   "execution_count": 173,
   "id": "36e2ea41",
   "metadata": {},
   "outputs": [
    {
     "name": "stdout",
     "output_type": "stream",
     "text": [
      "1\n",
      "3\n",
      "3\n"
     ]
    }
   ],
   "source": [
    "mi_tupla = (1, 2, 3, 2, 4, 2)\n",
    "\n",
    "# Cabe recalcar la diferencia entre indices y elementos:\n",
    "# - Índice: posición del elemento en la tupla (comienza en 0).\n",
    "# - Elemento: valor que se encuentra en esa posición.\n",
    "\n",
    "print (mi_tupla.index(2))   # Salida: 1\n",
    "# la primera aparición de 2 es en el índice 1 \n",
    "# (recordemos que los índices comienzan en 0)\n",
    "\n",
    "print (mi_tupla.index(2, 2))   #Salida: 3\n",
    "# La primera aparición de 2 después del índice 2 es en el índice 3\n",
    "\n",
    "print (mi_tupla.index(2, 2, 4))   #Salida: 3\n",
    "# La primera aparición de 2 después del índice 2 y antes del índice 4 es en el índice 3\n"
   ]
  },
  {
   "cell_type": "markdown",
   "id": "e8d986c1",
   "metadata": {},
   "source": [
    "- ### Diccionarios \n",
    "Un diccionario es una estructura de datos mutable y no ordenada que permite **almacenar pares de clave-valor. Claves únicas y su valor asociado**. Los diccionarios se encierran entre llaves {}, y los pares clave-valor se separan por comas."
   ]
  },
  {
   "cell_type": "code",
   "execution_count": 174,
   "id": "46a6dfca",
   "metadata": {},
   "outputs": [
    {
     "name": "stdout",
     "output_type": "stream",
     "text": [
      "Juan\n",
      "25\n",
      "Madrid\n"
     ]
    }
   ],
   "source": [
    "persona = {\"nombre\": \"Juan\", \n",
    "           \"edad\": 25, \n",
    "           \"ciudad\": \"Madrid\"}\n",
    "\n",
    "print(persona[\"nombre\"])  # Imprime \"Juan\"\n",
    "print(persona[\"edad\"])    # Imprime 25\n",
    "print(persona[\"ciudad\"])  # Imprime \"Madrid\""
   ]
  },
  {
   "cell_type": "markdown",
   "id": "186aae92",
   "metadata": {},
   "source": [
    "**Métodos de diccionarios**\n",
    "\n",
    "- **keys()**: devuelve una vista de todas las claves del diccionario.\n",
    "- **values()**: devuelve una vista de todos los valores del diccionario.\n",
    "- **items()**: devuelve una vista de todos los pares clave-valor del diccionario.\n",
    "- **update(otro_diccionario)**: actualiza el diccionario con los pares clave-valor de otro diccionario."
   ]
  },
  {
   "cell_type": "code",
   "execution_count": 175,
   "id": "acd0ff28",
   "metadata": {},
   "outputs": [
    {
     "name": "stdout",
     "output_type": "stream",
     "text": [
      "dict_keys(['nombre', 'edad', 'ciudad'])\n",
      "dict_values(['Juan', 25, 'Madrid'])\n",
      "dict_items([('nombre', 'Juan'), ('edad', 25), ('ciudad', 'Madrid')])\n",
      "{'nombre': 'Juan', 'edad': 25, 'ciudad': 'Madrid', 'profesion': 'Ingeniero'}\n"
     ]
    }
   ],
   "source": [
    "persona = {\"nombre\": \"Juan\", \"edad\": 25, \"ciudad\": \"Madrid\"}\n",
    "\n",
    "\n",
    "print(persona.keys())    # Imprime dict_keys([\"nombre\", \"edad\", \"ciudad\"])\n",
    "print(persona.values())  # Imprime dict_values([\"Juan\", 25, \"Madrid\"])\n",
    "print(persona.items())   # Imprime dict_items([(\"nombre\", \"Juan\"), (\"edad\", 25), (\"ciudad\", \"Madrid\")])\n",
    "\n",
    "\n",
    "persona.update({\"profesion\": \"Ingeniero\"})\n",
    "print(persona)  # Imprime {\"nombre\": \"Juan\", \"edad\": 25, \"ciudad\": \"Madrid\", \"profesion\": \"Ingeniero\"}"
   ]
  },
  {
   "cell_type": "markdown",
   "id": "33883adb",
   "metadata": {},
   "source": [
    "- ### Sets\n",
    "\n",
    "Un conjunto es una estructura de datos mutable y no ordenada que permite almacenar una **colección de elementos únicos**. Los conjuntos se encierran entre llaves {} o se crean utilizando la función set()."
   ]
  },
  {
   "cell_type": "code",
   "execution_count": 176,
   "id": "cd10d9cf",
   "metadata": {},
   "outputs": [],
   "source": [
    "frutas = {\"manzana\", \"banana\", \"naranja\"}\n",
    "numeros = set([1, 2, 3, 4, 5])"
   ]
  },
  {
   "cell_type": "markdown",
   "id": "cd49e46f",
   "metadata": {},
   "source": [
    "Los conjuntos admiten operaciones matemáticas de conjuntos, como la unión (|), la intersección (&), la diferencia (-) y la diferencia simétrica (^)."
   ]
  },
  {
   "cell_type": "code",
   "execution_count": 177,
   "id": "71e2a85a",
   "metadata": {},
   "outputs": [
    {
     "name": "stdout",
     "output_type": "stream",
     "text": [
      "{1, 2, 3, 4, 5}\n",
      "{3}\n",
      "{1, 2}\n",
      "{1, 2, 4, 5}\n"
     ]
    }
   ],
   "source": [
    "conjunto1 = {1, 2, 3}\n",
    "conjunto2 = {3, 4, 5}\n",
    "\n",
    "\n",
    "union = conjunto1 | conjunto2\n",
    "print(union)  # Imprime {1, 2, 3, 4, 5}\n",
    "\n",
    "\n",
    "interseccion = conjunto1 & conjunto2\n",
    "print(interseccion)  # Imprime {3}\n",
    "\n",
    "\n",
    "diferencia = conjunto1 - conjunto2\n",
    "print(diferencia)  # Imprime {1, 2}\n",
    "\n",
    "\n",
    "diferencia_simetrica = conjunto1 ^ conjunto2\n",
    "print(diferencia_simetrica)  # Imprime {1, 2, 4, 5}"
   ]
  },
  {
   "cell_type": "markdown",
   "id": "fdb4cb99",
   "metadata": {},
   "source": [
    "**Método de Conjuntos**\n",
    "- **add(elemento)**: agrega un elemento al conjunto.\n",
    "- **remove(elemento)**: elimina un elemento del conjunto. Si el elemento no existe, genera un error.\n",
    "- **discard(elemento)**: elimina un elemento del conjunto si está presente. Si el elemento no existe, no hace nada.\n",
    "- **clear()**: elimina todos los elementos del conjunto."
   ]
  },
  {
   "cell_type": "code",
   "execution_count": 178,
   "id": "6122b94d",
   "metadata": {},
   "outputs": [
    {
     "name": "stdout",
     "output_type": "stream",
     "text": [
      "{'pera', 'naranja', 'banana', 'manzana'}\n",
      "{'pera', 'naranja', 'manzana'}\n",
      "{'pera', 'naranja', 'manzana'}\n",
      "set()\n"
     ]
    }
   ],
   "source": [
    "frutas = {\"manzana\", \"banana\", \"naranja\"}\n",
    "\n",
    "\n",
    "frutas.add(\"pera\")\n",
    "print(frutas)  # Imprime {\"manzana\", \"banana\", \"naranja\", \"pera\"}\n",
    "\n",
    "\n",
    "frutas.remove(\"banana\")\n",
    "print(frutas)  # Imprime {\"manzana\", \"naranja\", \"pera\"}\n",
    "\n",
    "\n",
    "frutas.discard(\"uva\")\n",
    "print(frutas)  # Imprime {\"manzana\", \"naranja\", \"pera\"}\n",
    "\n",
    "\n",
    "frutas.clear()\n",
    "print(frutas)  # Imprime set()"
   ]
  },
  {
   "cell_type": "code",
   "execution_count": 179,
   "id": "760b12cc",
   "metadata": {},
   "outputs": [
    {
     "name": "stdout",
     "output_type": "stream",
     "text": [
      "23\n"
     ]
    }
   ],
   "source": [
    "def multiplicar (a, b):\n",
    "     \n",
    "    return a * b\n",
    "\n",
    "resultado = multiplicar (5, 3) + multiplicar (2, 4)\n",
    "print(resultado)"
   ]
  },
  {
   "cell_type": "markdown",
   "id": "ae598664",
   "metadata": {},
   "source": [
    "## Funciones \n",
    "Para definir una función en Python, utilizamos la palabra clave **def** seguida del **nombre de la función y paréntesis**. Opcionalmente, **podemos especificar parámetros dentro de los paréntesis**. El bloque de código de la función se indenta después de los dos puntos."
   ]
  },
  {
   "cell_type": "code",
   "execution_count": 180,
   "id": "514306ab",
   "metadata": {},
   "outputs": [
    {
     "name": "stdout",
     "output_type": "stream",
     "text": [
      "¡Hola, mundo!\n",
      "¡Hola, Juan!\n",
      "¡Hola, María!\n"
     ]
    }
   ],
   "source": [
    "def saludo():\n",
    "    print(\"¡Hola, mundo!\")\n",
    "saludo()  # Imprime \"¡Hola, mundo!\"\n",
    "\n",
    "def saludo(nombre):\n",
    "    print(f\"¡Hola, {nombre}!\")\n",
    "    \n",
    "saludo(\"Juan\")  # Imprime \"¡Hola, Juan!\"\n",
    "saludo(\"María\")  # Imprime \"¡Hola, María!\""
   ]
  },
  {
   "cell_type": "markdown",
   "id": "f5c91cb9",
   "metadata": {},
   "source": [
    "**Valores de retorno**"
   ]
  },
  {
   "cell_type": "code",
   "execution_count": 181,
   "id": "1d770ef8",
   "metadata": {},
   "outputs": [
    {
     "name": "stdout",
     "output_type": "stream",
     "text": [
      "7\n"
     ]
    }
   ],
   "source": [
    "def suma(a, b):\n",
    "    return a + b\n",
    "\n",
    "resultado = suma(3, 4)\n",
    "print(resultado)  # Imprime 7"
   ]
  },
  {
   "cell_type": "markdown",
   "id": "9f887e95",
   "metadata": {},
   "source": [
    "**Funciones anónimas (lambda)**\n",
    "Python permite crear funciones anónimas o funciones lambda, que son funciones sin nombre definidas en una sola línea. Se utilizan comúnmente para funciones pequeñas y concisas."
   ]
  },
  {
   "cell_type": "code",
   "execution_count": 182,
   "id": "ffc73ce5",
   "metadata": {},
   "outputs": [
    {
     "name": "stdout",
     "output_type": "stream",
     "text": [
      "25\n"
     ]
    }
   ],
   "source": [
    "cuadrado = lambda x: x ** 2\n",
    "print(cuadrado(5))  # Imprime 25"
   ]
  },
  {
   "cell_type": "markdown",
   "id": "cc7c2f38",
   "metadata": {},
   "source": [
    "**Alcance de las variables** (local / global) \n",
    "\n",
    "Variables solo accesibles por la función, o fuera de la función (en la clase). Hay más conceptos dentro de este apartado. [Os dejo un link sobre ello y profundizar más](https://diveintopython.org/es/learn/classes/variables).  "
   ]
  },
  {
   "cell_type": "code",
   "execution_count": 183,
   "id": "b1c89bd9",
   "metadata": {},
   "outputs": [
    {
     "name": "stdout",
     "output_type": "stream",
     "text": [
      "10\n",
      "20\n",
      "20\n"
     ]
    }
   ],
   "source": [
    "def funcion():\n",
    "    variable_local = 10\n",
    "    print(variable_local)  # Accesible dentro de la función\n",
    "\n",
    "\n",
    "variable_global = 20\n",
    "\n",
    "\n",
    "def funcion2():\n",
    "    print(variable_global)  # Accesible desde cualquier lugar\n",
    "\n",
    "\n",
    "funcion()  # Imprime 10\n",
    "funcion2()  # Imprime 20\n",
    "print(variable_global)  # Imprime 20\n"
   ]
  },
  {
   "cell_type": "code",
   "execution_count": 184,
   "id": "3d7207c3",
   "metadata": {},
   "outputs": [
    {
     "ename": "NameError",
     "evalue": "name 'variable_local' is not defined",
     "output_type": "error",
     "traceback": [
      "\u001b[1;31m---------------------------------------------------------------------------\u001b[0m",
      "\u001b[1;31mNameError\u001b[0m                                 Traceback (most recent call last)",
      "Cell \u001b[1;32mIn[184], line 1\u001b[0m\n\u001b[1;32m----> 1\u001b[0m \u001b[38;5;28mprint\u001b[39m(\u001b[43mvariable_local\u001b[49m)  \u001b[38;5;66;03m# Genera un error, la variable no está definida en este alcance.\u001b[39;00m\n",
      "\u001b[1;31mNameError\u001b[0m: name 'variable_local' is not defined"
     ]
    }
   ],
   "source": [
    "\n",
    "print(variable_local)  # Genera un error, la variable no está definida en este alcance."
   ]
  },
  {
   "cell_type": "markdown",
   "id": "b1991f43",
   "metadata": {},
   "source": [
    "- Crear un método que nos de el área de un rectángulo "
   ]
  },
  {
   "cell_type": "code",
   "execution_count": null,
   "id": "1d65b0c3",
   "metadata": {},
   "outputs": [
    {
     "name": "stdout",
     "output_type": "stream",
     "text": [
      "50\n"
     ]
    }
   ],
   "source": [
    "def area_rectangulo(base, altura):\n",
    "    return base * altura\n",
    "print(area_rectangulo(5, 10))  # Imprime 50"
   ]
  },
  {
   "cell_type": "markdown",
   "id": "d4ee6359",
   "metadata": {},
   "source": [
    "- **Funciones con número variable de argumentos**"
   ]
  },
  {
   "cell_type": "code",
   "execution_count": null,
   "id": "7f7467e1",
   "metadata": {},
   "outputs": [
    {
     "name": "stdout",
     "output_type": "stream",
     "text": [
      "6\n",
      "15\n"
     ]
    }
   ],
   "source": [
    "def suma_variable(*args):\n",
    "    return sum(args)\n",
    "\n",
    "print(suma_variable(1, 2, 3))  # Imprime 6\n",
    "print(suma_variable(1, 2, 3, 4, 5))  # Imprime 15   "
   ]
  },
  {
   "cell_type": "markdown",
   "id": "5c375c66",
   "metadata": {},
   "source": [
    "## Errores comunes en Python \n",
    "\n",
    "- ### SyntaxError\n",
    "    ```\n",
    "    def mi_funcion() # faltan los dos puntos\n",
    "    ```\n",
    "    \n",
    "\n",
    "- ### NameError\n",
    "    ```\n",
    "    print(variable_no_definida) # no existe la variable\n",
    "    ```\n",
    "\n",
    "- ### TypeError\n",
    "    ```\n",
    "    resultado = 5 + \"10\" # no puedo datos de tipos distintos\n",
    "    ```\n",
    "\n",
    "\n",
    "- ### IndexError\n",
    "    ```\n",
    "    lista = [1, 2, 3] \n",
    "    print(lista[3]) # Estamos fuera del rango (IndexOutOfBoundError)\n",
    "    ```\n"
   ]
  },
  {
   "cell_type": "markdown",
   "id": "6984f5ec",
   "metadata": {},
   "source": [
    "## Manejo de excepciones\n",
    "El manejo de excepciones nos permite capturar y manejar errores de manera controlada utilizando las declaraciones **try, except y opcionalmente finally**.\n",
    "\n",
    "- **Try**\n",
    "\n",
    "El bloque try contiene el código que puede generar una excepción. Si ocurre una excepción dentro del bloque try, el flujo de ejecución se transfiere al bloque except correspondiente."
   ]
  },
  {
   "cell_type": "code",
   "execution_count": null,
   "id": "e1d6def5",
   "metadata": {},
   "outputs": [
    {
     "name": "stdout",
     "output_type": "stream",
     "text": [
      "Error: División por cero\n"
     ]
    }
   ],
   "source": [
    "try:\n",
    "    # Código que puede generar una excepción\n",
    "    resultado = 10 / 0  # División por cero\n",
    "    print(resultado)\n",
    "except ZeroDivisionError:\n",
    "    print(\"Error: División por cero\")"
   ]
  },
  {
   "cell_type": "markdown",
   "id": "660ad290",
   "metadata": {},
   "source": [
    "- **Except**\n",
    "\n",
    "El bloque except especifica el tipo de excepción que se desea capturar y manejar. Puedes tener múltiples bloques except para manejar diferentes tipos de excepciones."
   ]
  },
  {
   "cell_type": "code",
   "execution_count": null,
   "id": "cbbacee3",
   "metadata": {},
   "outputs": [
    {
     "name": "stdout",
     "output_type": "stream",
     "text": [
      "Error: División por cero\n"
     ]
    }
   ],
   "source": [
    "try:\n",
    "    # Código que puede generar una excepción\n",
    "    resultado = 10 / 0  # División por cero\n",
    "    print(resultado)\n",
    "except ZeroDivisionError:\n",
    "    print(\"Error: División por cero\")\n",
    "except ValueError:\n",
    "    print(\"Error: Valor inválido\")"
   ]
  },
  {
   "cell_type": "markdown",
   "id": "5855bdf7",
   "metadata": {},
   "source": [
    "- **Finally**\n",
    "\n",
    "El bloque finally es opcional y se ejecuta siempre, independientemente de si ocurrió una excepción o no. Se utiliza comúnmente para realizar tareas de limpieza o liberación de recursos."
   ]
  },
  {
   "cell_type": "code",
   "execution_count": null,
   "id": "8877296d",
   "metadata": {},
   "outputs": [
    {
     "name": "stdout",
     "output_type": "stream",
     "text": [
      "Error: Archivo no encontrado\n"
     ]
    },
    {
     "ename": "NameError",
     "evalue": "name 'archivo' is not defined",
     "output_type": "error",
     "traceback": [
      "\u001b[1;31m---------------------------------------------------------------------------\u001b[0m",
      "\u001b[1;31mNameError\u001b[0m                                 Traceback (most recent call last)",
      "Cell \u001b[1;32mIn[157], line 8\u001b[0m\n\u001b[0;32m      6\u001b[0m     \u001b[38;5;28mprint\u001b[39m(\u001b[38;5;124m\"\u001b[39m\u001b[38;5;124mError: Archivo no encontrado\u001b[39m\u001b[38;5;124m\"\u001b[39m)\n\u001b[0;32m      7\u001b[0m \u001b[38;5;28;01mfinally\u001b[39;00m:\n\u001b[1;32m----> 8\u001b[0m     \u001b[43marchivo\u001b[49m\u001b[38;5;241m.\u001b[39mclose()  \u001b[38;5;66;03m# Cerrar el archivo siempre, incluso si ocurre una excepción\u001b[39;00m\n",
      "\u001b[1;31mNameError\u001b[0m: name 'archivo' is not defined"
     ]
    }
   ],
   "source": [
    "try:\n",
    "    # Código que puede generar una excepción\n",
    "    archivo = open(\"archivo.txt\", \"r\")\n",
    "    # Realizar operaciones con el archivo\n",
    "except FileNotFoundError:\n",
    "    print(\"Error: Archivo no encontrado\")\n",
    "finally:\n",
    "    archivo.close()  # Cerrar el archivo siempre, incluso si ocurre una excepción"
   ]
  },
  {
   "cell_type": "markdown",
   "id": "75c89cb4",
   "metadata": {},
   "source": [
    "## Excepciones personalizadas\n",
    "\n",
    "Para crear una excepción personalizada, debes crear una clase que herede de la clase base Exception o de una de sus subclases."
   ]
  },
  {
   "cell_type": "code",
   "execution_count": null,
   "id": "62b668a7",
   "metadata": {},
   "outputs": [],
   "source": [
    "def funcion():\n",
    "    # Código que puede generar una excepción personalizada\n",
    "    if condicion:\n",
    "        raise Exception(\"Descripción del error\")\n",
    "\n",
    "\n",
    "try:\n",
    "    funcion()\n",
    "except Exception as e:\n",
    "    print(f\"Error: {str(e)}\")"
   ]
  },
  {
   "cell_type": "markdown",
   "id": "ad1d3560",
   "metadata": {},
   "source": [
    "*Considera los posibles errores que pueden ocurrir en tu código y utiliza el manejo de excepciones adecuado para manejarlos de manera apropiada. Esto hará que tus programas sean más robustos y confiables.*"
   ]
  },
  {
   "cell_type": "markdown",
   "id": "54e52a8c",
   "metadata": {},
   "source": [
    "## Entradas y Salidas\n",
    "\n",
    "La entrada y salida de datos nos permite interactuar con el usuario y manipular archivos. Podemos solicitar información al usuario, mostrar resultados en la pantalla y leer o escribir datos en archivos externos."
   ]
  },
  {
   "cell_type": "code",
   "execution_count": null,
   "id": "a28ce8c9",
   "metadata": {},
   "outputs": [],
   "source": [
    "nombre = input(\"Ingresa tu nombre: \")\n",
    "edad = input(\"Ingresa tu edad: \")\n",
    "\n",
    "\n",
    "print(\"Hola, \" + nombre + \"!\")\n",
    "print(\"Tienes \" + edad + \" años.\")"
   ]
  },
  {
   "cell_type": "markdown",
   "id": "1c2dff26",
   "metadata": {},
   "source": [
    "*La función input() siempre devuelve una cadena de texto. Si deseas trabajar con otros tipos de datos, como números enteros o flotantes, debes realizar una conversión explícita utilizando funciones como int() o float().*"
   ]
  },
  {
   "cell_type": "code",
   "execution_count": null,
   "id": "dd5a3633",
   "metadata": {},
   "outputs": [],
   "source": [
    "edad = int(input(\"Ingresa tu edad: \"))\n",
    "\n",
    "\n",
    "if edad >= 18:\n",
    "    print(\"Eres mayor de edad.\")\n",
    "else:\n",
    "    print(\"Eres menor de edad.\")"
   ]
  },
  {
   "cell_type": "code",
   "execution_count": null,
   "id": "fcfb1798",
   "metadata": {},
   "outputs": [
    {
     "name": "stdout",
     "output_type": "stream",
     "text": [
      "Hola, mi nombre es Juan y tengo 25 años.\n",
      "Hola, mi nombre es Juan y tengo 25 años.\n"
     ]
    }
   ],
   "source": [
    "nombre = \"Juan\"\n",
    "edad = 25\n",
    "\n",
    " # Salida de datos formateada f-string\n",
    "print(f\"Hola, mi nombre es {nombre} y tengo {edad} años.\")\n",
    "print(\"Hola, mi nombre es {} y tengo {} años.\".format(nombre, edad))"
   ]
  },
  {
   "cell_type": "markdown",
   "id": "a28a3e38",
   "metadata": {},
   "source": [
    "## Lectura de archivos\n",
    "\n",
    "Python nos permite leer y escribir datos en archivos externos. Podemos abrir archivos en diferentes modos, como lectura (\"r\"), escritura (\"w\") o anexar (\"a\"), y realizar operaciones de lectura y escritura."
   ]
  },
  {
   "cell_type": "code",
   "execution_count": null,
   "id": "44838473",
   "metadata": {},
   "outputs": [],
   "source": [
    "# Lectura de un archivo\n",
    "archivo = open(\"datos.txt\", \"r\")\n",
    "contenido = archivo.read()\n",
    "print(contenido)\n",
    "archivo.close()\n",
    "\n",
    "# Escritura en un archivo\n",
    "archivo = open(\"datos.txt\", \"w\")\n",
    "archivo.write(\"Hola, mundo!\")\n",
    "archivo.close()"
   ]
  },
  {
   "cell_type": "markdown",
   "id": "83afab6e",
   "metadata": {},
   "source": [
    "*Es importante cerrar siempre los archivos después de utilizarlos para liberar los recursos del sistema.*\n",
    "\n",
    "También puedes utilizar la declaración with para manejar la apertura y cierre de archivos de manera automática."
   ]
  },
  {
   "cell_type": "code",
   "execution_count": null,
   "id": "2d90ea37",
   "metadata": {},
   "outputs": [],
   "source": [
    "with open(\"datos.txt\", \"r\") as archivo:\n",
    "    contenido = archivo.read()\n",
    "    print(contenido)\n",
    "    \n",
    "\"\"\"\n",
    "En este caso, el archivo se abre utilizando la declaración \n",
    "with y se cierra automáticamente una vez que se sale del \n",
    "bloque with, incluso si ocurre una excepción.\n",
    "\"\"\""
   ]
  },
  {
   "cell_type": "markdown",
   "id": "70148c67",
   "metadata": {},
   "source": [
    "## Importación y creación de módulos \n",
    "\n",
    "En Python, un módulo es un archivo que contiene definiciones de funciones, clases y variables que se pueden utilizar en otros programas. La importación de módulos nos permite acceder a la funcionalidad definida en otros archivos y reutilizar código de manera eficiente. Además, podemos crear nuestros propios módulos para organizar y modularizar nuestro código.\n",
    "\n",
    "Python viene con una amplia biblioteca estándar de módulos que proporcionan funcionalidades adicionales. Estos módulos están disponibles sin necesidad de instalarlos por separado.\n",
    "\n",
    "- **Importar módulos**"
   ]
  },
  {
   "cell_type": "code",
   "execution_count": null,
   "id": "d90f3a10",
   "metadata": {},
   "outputs": [],
   "source": [
    "import math\n",
    "\n",
    "\n",
    "resultado = math.sqrt(25)\n",
    "print(resultado)  # Imprime 5.0"
   ]
  },
  {
   "cell_type": "markdown",
   "id": "af8114d5",
   "metadata": {},
   "source": [
    "- **Funciones y clases de módulos estándar**\n",
    "\n",
    "[math](https://docs.python.org/es/3.10/library/math.html)\n",
    "[random](https://docs.python.org/es/3/library/random.html)\n",
    "[datetime](https://docs.python.org/es/3/library/datetime.html)\n",
    "y un montón más"
   ]
  },
  {
   "cell_type": "code",
   "execution_count": null,
   "id": "609c7c29",
   "metadata": {},
   "outputs": [],
   "source": [
    "import random\n",
    "import datetime\n",
    "\n",
    "\n",
    "numero_aleatorio = random.randint(1, 10)\n",
    "print(numero_aleatorio)  # Imprime un número entero aleatorio entre 1 y 10\n",
    "\n",
    "\n",
    "fecha_actual = datetime.datetime.now()\n",
    "print(fecha_actual)  # Imprime la fecha y hora actual"
   ]
  },
  {
   "cell_type": "markdown",
   "id": "b370bcd8",
   "metadata": {},
   "source": [
    "### Crear y utilizar módulos propios\n",
    "\n",
    "Para crear un módulo personalizado, simplemente creamos **un nuevo archivo Python** con el nombre deseado y **definimos las funciones, clases y variables que queremos incluir en el módulo**. Por ejemplo, creamos un archivo (en el mismo directorio donde estamos ejecutando Python) llamado mi_modulo.py con el siguiente contenido:\n",
    "\n",
    "```\n",
    "#mi_modulo.py\n",
    "def saludar(nombre):\n",
    "    print(f\"Hola, {nombre}!\")\n",
    "\n",
    "\n",
    "def calcular_suma(a, b):\n",
    "    return a + b\n",
    "```\n",
    "```\n",
    "import mi_modulo\n",
    "\n",
    "\n",
    "mi_modulo.saludar(\"Juan\")  # Imprime \"Hola, Juan!\"\n",
    "resultado = mi_modulo.calcular_suma(5, 3)\n",
    "print(resultado)  # Imprime 8\n",
    "```\n",
    "\n",
    "- **Organización del código en módulos**\n",
    "\n",
    "A medida que nuestros programas crecen en tamaño y complejidad, es una buena práctica organizar nuestro código en módulos separados según su funcionalidad. Esto nos permite conservar un código más legible, agrupado en módulos y fácil de mantener.\n",
    "\n",
    "### Crear y utilizar paquetes\n",
    "\n",
    "Para crear un paquete, **creamos un directorio con el nombre deseado y agregamos un archivo especial llamado __init__.py** dentro del directorio. Este archivo puede estar vacío o contener código de inicialización del paquete.\n",
    "\n",
    "```\n",
    "mi_paquete/\n",
    "    __init__.py\n",
    "    modulo1.py\n",
    "    modulo2.py\n",
    "```\n",
    "Luego, podemos importar y utilizar los módulos del paquete en nuestro programa.\n",
    "\n",
    "```\n",
    "from mi_paquete import modulo1, modulo2\n",
    "\n",
    "\n",
    "modulo1.funcion1()\n",
    "modulo2.funcion2()\n",
    "```\n",
    "\n",
    "*La importación y creación de módulos y paquetes en Python nos permite organizar y reutilizar nuestro código de manera eficiente. Al modularizar nuestro código, podemos mantener un código más legible, estructurado y fácil de mantener.*\n",
    "\n",
    "*Recuerda explorar la biblioteca estándar de Python y aprovechar los módulos existentes, que pueden facilitarte muchas tareas comunes. Además, no dudes en crear tus propios módulos y paquetes para organizar y reutilizar tu código de manera efectiva.*"
   ]
  },
  {
   "cell_type": "markdown",
   "id": "95a64348",
   "metadata": {},
   "source": [
    "**Para finalizar, os dejo una web que he encontrado y me parece que explica muy bien todos los conceptos generales del mundo de la programación y particularidades de Python. [El libro de Python](https://ellibrodepython.com/alcance-variables-python)**"
   ]
  }
 ],
 "metadata": {
  "kernelspec": {
   "display_name": "Python 3",
   "language": "python",
   "name": "python3"
  },
  "language_info": {
   "codemirror_mode": {
    "name": "ipython",
    "version": 3
   },
   "file_extension": ".py",
   "mimetype": "text/x-python",
   "name": "python",
   "nbconvert_exporter": "python",
   "pygments_lexer": "ipython3",
   "version": "3.10.10"
  }
 },
 "nbformat": 4,
 "nbformat_minor": 5
}
